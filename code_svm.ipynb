{
 "cells": [
  {
   "cell_type": "markdown",
   "id": "df7e1664",
   "metadata": {},
   "source": [
    "# Enhanced SVM-Based Active Learning for Banknote Authentication"
   ]
  },
  {
   "cell_type": "code",
   "execution_count": 1,
   "id": "111b4819",
   "metadata": {},
   "outputs": [],
   "source": [
    "import pandas as pd\n",
    "import numpy as np\n",
    "from sklearn.model_selection import train_test_split\n",
    "from sklearn.svm import LinearSVC\n",
    "from sklearn.model_selection import cross_val_score, KFold\n",
    "from sklearn.metrics import accuracy_score\n",
    "from sklearn.model_selection import GridSearchCV\n",
    "import matplotlib.pyplot as plt"
   ]
  },
  {
   "cell_type": "markdown",
   "id": "f82da626",
   "metadata": {},
   "source": [
    "### (a) Choose 472 data points randomly as the test set, and the remaining 900 points as the training set. This is a binary classification problem."
   ]
  },
  {
   "cell_type": "code",
   "execution_count": 7,
   "id": "eff1c12e",
   "metadata": {},
   "outputs": [],
   "source": [
    "column_names = [\"variance\",\"skew\",\"curtosis\",\"entropy\",\"class\"]\n",
    "\n",
    "df = pd.read_csv('./Data/data_banknote_authentication.txt',header=None, names=column_names)\n",
    "np.random.seed(0)\n",
    "# Randomly select 472 indices for the test set\n",
    "test_indices = np.random.choice(df.index, size=472, replace=False)\n",
    "test_set = df.iloc[test_indices]\n",
    "# Select the data points not in the test set for the training set\n",
    "train_set = df.drop(test_indices)"
   ]
  },
  {
   "cell_type": "markdown",
   "id": "0c6d4097",
   "metadata": {},
   "source": [
    "### (b) Repeat each of the following two procedures 50 times. "
   ]
  },
  {
   "cell_type": "markdown",
   "id": "93f04fdc",
   "metadata": {},
   "source": [
    "#### i. Train a SVM with a pool of 10 randomly selected data points from the training set using linear kernel and L1 penalty. Select the penalty parameter using 5-fold cross validation. Repeat this process by adding 10 other randomly selected data points to the pool, until I use all the 900 points. Do NOT replace the samples back into the training set at each step. Calculate the test error for each SVM. "
   ]
  },
  {
   "cell_type": "code",
   "execution_count": 36,
   "id": "6eda128b",
   "metadata": {},
   "outputs": [],
   "source": [
    "training_data = train_set.copy()  \n",
    "test_data = test_set.copy()     \n",
    "pool = []\n",
    "test_errors = []"
   ]
  },
  {
   "cell_type": "code",
   "execution_count": 37,
   "id": "325c2406",
   "metadata": {},
   "outputs": [
    {
     "name": "stderr",
     "output_type": "stream",
     "text": [
      "/Users/zoeyzhao/anaconda3/lib/python3.9/site-packages/sklearn/model_selection/_split.py:676: UserWarning: The least populated class in y has only 4 members, which is less than n_splits=5.\n",
      "  warnings.warn(\n",
      "/Users/zoeyzhao/anaconda3/lib/python3.9/site-packages/sklearn/svm/_base.py:1206: ConvergenceWarning: Liblinear failed to converge, increase the number of iterations.\n",
      "  warnings.warn(\n",
      "/Users/zoeyzhao/anaconda3/lib/python3.9/site-packages/sklearn/svm/_base.py:1206: ConvergenceWarning: Liblinear failed to converge, increase the number of iterations.\n",
      "  warnings.warn(\n",
      "/Users/zoeyzhao/anaconda3/lib/python3.9/site-packages/sklearn/svm/_base.py:1206: ConvergenceWarning: Liblinear failed to converge, increase the number of iterations.\n",
      "  warnings.warn(\n",
      "/Users/zoeyzhao/anaconda3/lib/python3.9/site-packages/sklearn/svm/_base.py:1206: ConvergenceWarning: Liblinear failed to converge, increase the number of iterations.\n",
      "  warnings.warn(\n",
      "/Users/zoeyzhao/anaconda3/lib/python3.9/site-packages/sklearn/svm/_base.py:1206: ConvergenceWarning: Liblinear failed to converge, increase the number of iterations.\n",
      "  warnings.warn(\n",
      "/Users/zoeyzhao/anaconda3/lib/python3.9/site-packages/sklearn/svm/_base.py:1206: ConvergenceWarning: Liblinear failed to converge, increase the number of iterations.\n",
      "  warnings.warn(\n",
      "/Users/zoeyzhao/anaconda3/lib/python3.9/site-packages/sklearn/svm/_base.py:1206: ConvergenceWarning: Liblinear failed to converge, increase the number of iterations.\n",
      "  warnings.warn(\n",
      "/Users/zoeyzhao/anaconda3/lib/python3.9/site-packages/sklearn/svm/_base.py:1206: ConvergenceWarning: Liblinear failed to converge, increase the number of iterations.\n",
      "  warnings.warn(\n",
      "/Users/zoeyzhao/anaconda3/lib/python3.9/site-packages/sklearn/svm/_base.py:1206: ConvergenceWarning: Liblinear failed to converge, increase the number of iterations.\n",
      "  warnings.warn(\n",
      "/Users/zoeyzhao/anaconda3/lib/python3.9/site-packages/sklearn/svm/_base.py:1206: ConvergenceWarning: Liblinear failed to converge, increase the number of iterations.\n",
      "  warnings.warn(\n",
      "/Users/zoeyzhao/anaconda3/lib/python3.9/site-packages/sklearn/svm/_base.py:1206: ConvergenceWarning: Liblinear failed to converge, increase the number of iterations.\n",
      "  warnings.warn(\n",
      "/Users/zoeyzhao/anaconda3/lib/python3.9/site-packages/sklearn/svm/_base.py:1206: ConvergenceWarning: Liblinear failed to converge, increase the number of iterations.\n",
      "  warnings.warn(\n",
      "/Users/zoeyzhao/anaconda3/lib/python3.9/site-packages/sklearn/svm/_base.py:1206: ConvergenceWarning: Liblinear failed to converge, increase the number of iterations.\n",
      "  warnings.warn(\n",
      "/Users/zoeyzhao/anaconda3/lib/python3.9/site-packages/sklearn/svm/_base.py:1206: ConvergenceWarning: Liblinear failed to converge, increase the number of iterations.\n",
      "  warnings.warn(\n",
      "/Users/zoeyzhao/anaconda3/lib/python3.9/site-packages/sklearn/svm/_base.py:1206: ConvergenceWarning: Liblinear failed to converge, increase the number of iterations.\n",
      "  warnings.warn(\n",
      "/Users/zoeyzhao/anaconda3/lib/python3.9/site-packages/sklearn/svm/_base.py:1206: ConvergenceWarning: Liblinear failed to converge, increase the number of iterations.\n",
      "  warnings.warn(\n",
      "/Users/zoeyzhao/anaconda3/lib/python3.9/site-packages/sklearn/svm/_base.py:1206: ConvergenceWarning: Liblinear failed to converge, increase the number of iterations.\n",
      "  warnings.warn(\n",
      "/Users/zoeyzhao/anaconda3/lib/python3.9/site-packages/sklearn/svm/_base.py:1206: ConvergenceWarning: Liblinear failed to converge, increase the number of iterations.\n",
      "  warnings.warn(\n",
      "/Users/zoeyzhao/anaconda3/lib/python3.9/site-packages/sklearn/svm/_base.py:1206: ConvergenceWarning: Liblinear failed to converge, increase the number of iterations.\n",
      "  warnings.warn(\n",
      "/Users/zoeyzhao/anaconda3/lib/python3.9/site-packages/sklearn/svm/_base.py:1206: ConvergenceWarning: Liblinear failed to converge, increase the number of iterations.\n",
      "  warnings.warn(\n",
      "/Users/zoeyzhao/anaconda3/lib/python3.9/site-packages/sklearn/svm/_base.py:1206: ConvergenceWarning: Liblinear failed to converge, increase the number of iterations.\n",
      "  warnings.warn(\n",
      "/Users/zoeyzhao/anaconda3/lib/python3.9/site-packages/sklearn/svm/_base.py:1206: ConvergenceWarning: Liblinear failed to converge, increase the number of iterations.\n",
      "  warnings.warn(\n",
      "/Users/zoeyzhao/anaconda3/lib/python3.9/site-packages/sklearn/svm/_base.py:1206: ConvergenceWarning: Liblinear failed to converge, increase the number of iterations.\n",
      "  warnings.warn(\n"
     ]
    }
   ],
   "source": [
    "for i in range(1, 91):  # 90 iterations\n",
    "    # Randomly sample 10 points without replacement\n",
    "    sample = training_data.sample(10, replace=False)\n",
    "    pool.extend(sample.index.tolist())\n",
    "\n",
    "    # Update training_data by removing the sampled points\n",
    "    training_data = training_data.drop(sample.index)\n",
    "    \n",
    "    # Prepare training samples\n",
    "    X_train = train_set.loc[pool].drop('class', axis=1)  \n",
    "    y_train = train_set.loc[pool]['class']  \n",
    "\n",
    "    # Initialize SVM with L1 penalty\n",
    "    svm = LinearSVC(penalty='l1', dual=False, random_state=0, max_iter=20000)\n",
    "\n",
    "    # Set up GridSearchCV for penalty parameter selection with 5-fold CV\n",
    "    param_grid = {'C': [0.01, 0.1, 1, 10, 100]}  # Define a range of penalty parameters\n",
    "    grid_search = GridSearchCV(svm, param_grid, cv=5)\n",
    "    grid_search.fit(X_train, y_train)\n",
    "\n",
    "    # Use the best estimator\n",
    "    best_svm = grid_search.best_estimator_\n",
    "\n",
    "    # Prepare the entire test dataset\n",
    "    X_test = test_data.drop('class', axis=1)             \n",
    "    y_test = test_data['class']  \n",
    "\n",
    "    # Calculate test error                      \n",
    "    y_pred = best_svm.predict(X_test)\n",
    "    test_error = 1 - accuracy_score(y_test, y_pred)\n",
    "    test_errors.append(test_error)\n"
   ]
  },
  {
   "cell_type": "markdown",
   "id": "b9683f48",
   "metadata": {},
   "source": [
    "#### ii. Train a SVM with a pool of 10 randomly selected data points from the training set 5 using linear kernel and L1 penalty. Select the parameters of the SVM with 5-fold cross validation. Choose the 10 closest data points in the training set to the hyperplane of the SVM and add them to the pool. Do not replace the samples back into the training set. Train a new SVM using the pool. Repeat this process until all training data is used. I will have 90 SVMs that were trained using 10, 20, 30,..., 900 data points and their 90 test errors. I have implemented active learning."
   ]
  },
  {
   "cell_type": "code",
   "execution_count": 29,
   "id": "e1437ce1",
   "metadata": {},
   "outputs": [],
   "source": [
    "from sklearn.metrics import accuracy_score\n",
    "\n",
    "training_data = train_set.copy()  \n",
    "test_data = test_set.copy()       \n",
    "pool = []\n",
    "test_errors_active = []"
   ]
  },
  {
   "cell_type": "code",
   "execution_count": 30,
   "id": "2f60cd72",
   "metadata": {},
   "outputs": [
    {
     "name": "stderr",
     "output_type": "stream",
     "text": [
      "/Users/zoeyzhao/anaconda3/lib/python3.9/site-packages/sklearn/svm/_base.py:1206: ConvergenceWarning: Liblinear failed to converge, increase the number of iterations.\n",
      "  warnings.warn(\n",
      "/Users/zoeyzhao/anaconda3/lib/python3.9/site-packages/sklearn/svm/_base.py:1206: ConvergenceWarning: Liblinear failed to converge, increase the number of iterations.\n",
      "  warnings.warn(\n",
      "/Users/zoeyzhao/anaconda3/lib/python3.9/site-packages/sklearn/svm/_base.py:1206: ConvergenceWarning: Liblinear failed to converge, increase the number of iterations.\n",
      "  warnings.warn(\n",
      "/Users/zoeyzhao/anaconda3/lib/python3.9/site-packages/sklearn/svm/_base.py:1206: ConvergenceWarning: Liblinear failed to converge, increase the number of iterations.\n",
      "  warnings.warn(\n",
      "/Users/zoeyzhao/anaconda3/lib/python3.9/site-packages/sklearn/svm/_base.py:1206: ConvergenceWarning: Liblinear failed to converge, increase the number of iterations.\n",
      "  warnings.warn(\n",
      "/Users/zoeyzhao/anaconda3/lib/python3.9/site-packages/sklearn/svm/_base.py:1206: ConvergenceWarning: Liblinear failed to converge, increase the number of iterations.\n",
      "  warnings.warn(\n",
      "/Users/zoeyzhao/anaconda3/lib/python3.9/site-packages/sklearn/svm/_base.py:1206: ConvergenceWarning: Liblinear failed to converge, increase the number of iterations.\n",
      "  warnings.warn(\n",
      "/Users/zoeyzhao/anaconda3/lib/python3.9/site-packages/sklearn/svm/_base.py:1206: ConvergenceWarning: Liblinear failed to converge, increase the number of iterations.\n",
      "  warnings.warn(\n",
      "/Users/zoeyzhao/anaconda3/lib/python3.9/site-packages/sklearn/svm/_base.py:1206: ConvergenceWarning: Liblinear failed to converge, increase the number of iterations.\n",
      "  warnings.warn(\n",
      "/Users/zoeyzhao/anaconda3/lib/python3.9/site-packages/sklearn/svm/_base.py:1206: ConvergenceWarning: Liblinear failed to converge, increase the number of iterations.\n",
      "  warnings.warn(\n"
     ]
    }
   ],
   "source": [
    "for i in range(1, 91):  # 90 iterations\n",
    "    if i == 1:\n",
    "        sample = training_data.sample(10, replace=False)\n",
    "    else:\n",
    "        distances = best_svm.decision_function(X_train_all)\n",
    "        closest_points = np.argsort(np.abs(distances))[:10]\n",
    "        sample = X_train_all.iloc[closest_points]\n",
    "\n",
    "    pool.extend(sample.index.tolist())\n",
    "    training_data = training_data.drop(sample.index)\n",
    "\n",
    "    # Prepare training samples\n",
    "    X_train = train_set.loc[pool].drop('class', axis=1)\n",
    "    y_train = train_set.loc[pool]['class']\n",
    "    X_train_all = training_data.drop('class', axis=1)\n",
    "\n",
    "    # Initialize SVM with L1 penalty\n",
    "    svm = LinearSVC(penalty='l1', dual=False, random_state=0, max_iter=30000)\n",
    "\n",
    "    # Set up GridSearchCV for penalty parameter selection with 5-fold CV\n",
    "    param_grid = {'C': [0.01, 0.1, 1, 10, 100]}\n",
    "    grid_search = GridSearchCV(svm, param_grid, cv=5)\n",
    "    grid_search.fit(X_train, y_train)\n",
    "\n",
    "    # Use the best estimator\n",
    "    best_svm = grid_search.best_estimator_\n",
    "\n",
    "    # Calculate test error\n",
    "    X_test = test_data.drop('class', axis=1)\n",
    "    y_test = test_data['class']\n",
    "    y_pred = best_svm.predict(X_test)\n",
    "    test_error = 1 - accuracy_score(y_test, y_pred)\n",
    "    test_errors_active.append(test_error)\n"
   ]
  },
  {
   "cell_type": "markdown",
   "id": "c551eb41",
   "metadata": {},
   "source": [
    "### (c). Average the 50 test errors for each of the incrementally trained 90 SVMs in 2(b)i and 2(b)ii. By doing so, I are performing a Monte Carlo simulation. Plot average test error versus number of training instances for both active and passive learners on the same figure and report the conclusions. I obtained a learning curve by Monte-Carlo simulation."
   ]
  },
  {
   "cell_type": "code",
   "execution_count": 39,
   "id": "b7b2f10d",
   "metadata": {},
   "outputs": [
    {
     "data": {
      "image/png": "[encoded data removed]",
      "text/plain": [
       "<Figure size 720x432 with 1 Axes>"
      ]
     },
     "metadata": {
      "needs_background": "light"
     },
     "output_type": "display_data"
    }
   ],
   "source": [
    "# Calculate average errors\n",
    "average_active_errors = np.mean(test_errors_active, axis=0)\n",
    "average_passive_errors = np.mean(test_errors, axis=0)\n",
    "\n",
    "# Number of training instances\n",
    "training_instances = list(range(10, 901, 10))\n",
    "\n",
    "# Plotting\n",
    "plt.figure(figsize=(10, 6))\n",
    "plt.plot(training_instances, test_errors_active, label='Active Learning', marker='o')\n",
    "plt.plot(training_instances, test_errors, label='Passive Learning', marker='x')\n",
    "plt.xlabel('Number of Training Instances')\n",
    "plt.ylabel('Average Test Error')\n",
    "plt.title('Learning Curve by Monte-Carlo Simulation')\n",
    "plt.legend()\n",
    "plt.grid(True)\n",
    "plt.show()"
   ]
  }
 ],
 "metadata": {
  "kernelspec": {
   "display_name": "Python 3 (ipykernel)",
   "language": "python",
   "name": "python3"
  },
  "language_info": {
   "codemirror_mode": {
    "name": "ipython",
    "version": 3
   },
   "file_extension": ".py",
   "mimetype": "text/x-python",
   "name": "python",
   "nbconvert_exporter": "python",
   "pygments_lexer": "ipython3",
   "version": "3.11.5"
  }
 },
 "nbformat": 4,
 "nbformat_minor": 5
}
